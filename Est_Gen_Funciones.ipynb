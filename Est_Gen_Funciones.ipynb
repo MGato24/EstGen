{
 "cells": [
  {
   "cell_type": "markdown",
   "metadata": {},
   "source": [
    "# CÁLCULOS PARA ESTADÍSTICA GENERAL\n",
    "1. DISTRIBUCIONES DISCRETAS\n",
    "2. DISTRIBUCIONES CONTINUAS\n",
    "3. INTERVALOS DE CONFIANZA\n",
    "4. TAMAÑO DE MUESTRA"
   ]
  },
  {
   "cell_type": "code",
   "execution_count": 5,
   "metadata": {},
   "outputs": [],
   "source": [
    "#El único módulo que vamos a necesitar para tener las funciones que hagan los cálculos respectivos.\n",
    "import math"
   ]
  },
  {
   "cell_type": "markdown",
   "metadata": {},
   "source": [
    "## DISTRIBUCIONES DISCRETAS"
   ]
  },
  {
   "cell_type": "markdown",
   "metadata": {},
   "source": [
    "### Distribución binomial\n",
    "\n",
    "Sea \n",
    "- n : El número de experimentos \n",
    "- p : La probabilidad de éxito\n",
    "- x : Número de éxitos deseados"
   ]
  },
  {
   "cell_type": "code",
   "execution_count": 6,
   "metadata": {},
   "outputs": [],
   "source": [
    "def Binomial(x,n,p):\n",
    "    return math.comb(n, x)*p**x*(1-p)**(n-x)"
   ]
  },
  {
   "cell_type": "markdown",
   "metadata": {},
   "source": [
    "### Distribución Hipergeométrica\n",
    "\n",
    "Sea:\n",
    "- N : Número total de la población\n",
    "- k : Número de éxitos de la población\n",
    "- n : Número de la muestra\n",
    "- x : Número de éxitos de la muestra"
   ]
  },
  {
   "cell_type": "code",
   "execution_count": 7,
   "metadata": {},
   "outputs": [],
   "source": [
    "def Hiper(x, N, n, k):\n",
    "    r = math.comb(k,x)*math.comb(N-k,n-x)/math.comb(N,n)\n",
    "    media = n*k/N\n",
    "    Var = n*k/N*(1-k/N)*((N-n)/(N-1))\n",
    "\n",
    "    media_y_var = [(\"Media\", media),(\"Var\",Var)]\n",
    "\n",
    "    return r, media_y_var"
   ]
  },
  {
   "cell_type": "markdown",
   "metadata": {},
   "source": [
    "### Distribución de Poisson\n",
    "Sea:\n",
    "- λ : media o valor esperado de x\n",
    "- x : Número de veces que ocurre un evento durante un intervalo definido"
   ]
  },
  {
   "cell_type": "code",
   "execution_count": 8,
   "metadata": {},
   "outputs": [],
   "source": [
    "def Pois(x,λ):\n",
    "    return math.e**(-λ)*λ**x/math.factorial(x)"
   ]
  },
  {
   "cell_type": "markdown",
   "metadata": {},
   "source": [
    "## DISTRIBUCIONES CONTINUAS"
   ]
  },
  {
   "cell_type": "markdown",
   "metadata": {},
   "source": [
    "### Distribución normal"
   ]
  },
  {
   "cell_type": "code",
   "execution_count": 97,
   "metadata": {},
   "outputs": [],
   "source": [
    "# Tipificar un x para utilizar ese valor en la tabla-z (normal estandar)\n",
    "def Ntip(x,media,ds):\n",
    "    z = (x-media)/ds\n",
    "    return f\"z = {round(z,4)}\""
   ]
  },
  {
   "cell_type": "code",
   "execution_count": 101,
   "metadata": {},
   "outputs": [
    {
     "data": {
      "text/plain": [
       "'z = 0.8571'"
      ]
     },
     "execution_count": 101,
     "metadata": {},
     "output_type": "execute_result"
    }
   ],
   "source": [
    "Ntip(1.8,1.5,0.35)"
   ]
  },
  {
   "cell_type": "markdown",
   "metadata": {},
   "source": [
    "### Distribución de la media muestral"
   ]
  },
  {
   "cell_type": "code",
   "execution_count": 99,
   "metadata": {},
   "outputs": [],
   "source": [
    "# Tipificar un x para utilizar ese valor en la tabla-z (normal estandar)\n",
    "def Mtip(x,media,ds, n):\n",
    "    z = (x-media)/(ds/math.sqrt(n))\n",
    "    return f\"z = {round(z,4)}\""
   ]
  },
  {
   "cell_type": "code",
   "execution_count": 100,
   "metadata": {},
   "outputs": [
    {
     "data": {
      "text/plain": [
       "'z = 3.1944'"
      ]
     },
     "execution_count": 100,
     "metadata": {},
     "output_type": "execute_result"
    }
   ],
   "source": [
    "Mtip(2,1.5,0.35,5)"
   ]
  },
  {
   "cell_type": "markdown",
   "metadata": {},
   "source": [
    "### Distribución de la proporción muestral"
   ]
  },
  {
   "cell_type": "code",
   "execution_count": 102,
   "metadata": {},
   "outputs": [],
   "source": [
    "# Tipificar un x para utilizar ese valor en la tabla-z (normal estandar)\n",
    "def Ptip(p,pi,n):\n",
    "    z = (p-pi)/math.sqrt(pi*(1-pi)/n)\n",
    "    return f\"z = {round(z,4)}\""
   ]
  },
  {
   "cell_type": "code",
   "execution_count": 103,
   "metadata": {},
   "outputs": [
    {
     "data": {
      "text/plain": [
       "'z = 1.6581'"
      ]
     },
     "execution_count": 103,
     "metadata": {},
     "output_type": "execute_result"
    }
   ],
   "source": [
    "Ptip(0.05,0.03,200)"
   ]
  },
  {
   "cell_type": "markdown",
   "metadata": {},
   "source": [
    "## INTERVALOS DE CONFIANZA"
   ]
  },
  {
   "cell_type": "markdown",
   "metadata": {},
   "source": [
    "### Intervalo de confianza para la media"
   ]
  },
  {
   "cell_type": "code",
   "execution_count": 81,
   "metadata": {},
   "outputs": [],
   "source": [
    "# t se obtiene de la tabla de t-student en función al porcentage del intervalo de confianza\n",
    "# n es la cantidad de elementos de la muestra\n",
    "\n",
    "def ICmedia(media,var,t,n):\n",
    "    li = media - t*math.sqrt(var/n)\n",
    "    ls = media + t*math.sqrt(var/n)\n",
    "\n",
    "    return f\"Media poblacional: [{round(li,4)};{round(ls,4)}]\""
   ]
  },
  {
   "cell_type": "code",
   "execution_count": 88,
   "metadata": {},
   "outputs": [
    {
     "data": {
      "text/plain": [
       "'Media poblacional: [28.5131;29.8869]'"
      ]
     },
     "execution_count": 88,
     "metadata": {},
     "output_type": "execute_result"
    }
   ],
   "source": [
    "ICmedia(29.2,4,2.032,35)"
   ]
  },
  {
   "cell_type": "markdown",
   "metadata": {},
   "source": [
    "### Intervalo de confianza para la variancia y la desviación estándar"
   ]
  },
  {
   "cell_type": "code",
   "execution_count": 85,
   "metadata": {},
   "outputs": [],
   "source": [
    "# chi es una lista de 2 elementos [chi1,chi2] obtenidos de la tabla chi-cuadrado \n",
    "# en función al porcentage del intervalo de confianza\n",
    "\n",
    "# n es la cantidad de elementos de la muestra\n",
    "\n",
    "def ICvarsd(var,chi,n):\n",
    "    varli = (n-1)*var/max(chi)\n",
    "    varls = (n-1)*var/min(chi)\n",
    "\n",
    "    dsli = math.sqrt(varli)\n",
    "    dsls = math.sqrt(varls)\n",
    "\n",
    "    r1 = f\"Variancia poblacional: [{round(varli,4)};{round(varls,4)}]\"\n",
    "    r2 = f\"Desv.Stand poblacional: [{round(dsli,4)};{round(dsls,4)}]\"\n",
    "\n",
    "    return r1,r2"
   ]
  },
  {
   "cell_type": "code",
   "execution_count": 86,
   "metadata": {},
   "outputs": [
    {
     "data": {
      "text/plain": [
       "('Variancia poblacional: [2.6171;6.8666]',\n",
       " 'Desv.Stand poblacional: [1.6177;2.6204]')"
      ]
     },
     "execution_count": 86,
     "metadata": {},
     "output_type": "execute_result"
    }
   ],
   "source": [
    "ICvarsd(4,[19.806,51.966],35)"
   ]
  },
  {
   "cell_type": "markdown",
   "metadata": {},
   "source": [
    "### Intervalo de confianza parar la proporción"
   ]
  },
  {
   "cell_type": "code",
   "execution_count": 79,
   "metadata": {},
   "outputs": [],
   "source": [
    "# n es la cantidad de elementos de la muestra\n",
    "# z es el valor obtenido de la tabla-z en función al inervalo de confianza\n",
    "# p es la proporción de la muestra\n",
    "\n",
    "def ICprop(p,z,n):\n",
    "    li = p-z*math.sqrt(p*(1-p)/n)\n",
    "    ls = p+z*math.sqrt(p*(1-p)/n)\n",
    "\n",
    "    return f\"Proporción poblacional: [{round(li,4)},{round(ls,4)}]\""
   ]
  },
  {
   "cell_type": "code",
   "execution_count": 89,
   "metadata": {},
   "outputs": [
    {
     "data": {
      "text/plain": [
       "'Proporción poblacional: [0.7087,1.0113]'"
      ]
     },
     "execution_count": 89,
     "metadata": {},
     "output_type": "execute_result"
    }
   ],
   "source": [
    "ICprop(0.86, 2.58, 35)"
   ]
  },
  {
   "cell_type": "markdown",
   "metadata": {},
   "source": [
    "## Tamaño de una muestra"
   ]
  },
  {
   "cell_type": "code",
   "execution_count": 110,
   "metadata": {},
   "outputs": [],
   "source": [
    "# Tamaño de la muestra con respecto a la media:\n",
    "\n",
    "# t: valor tabular, tabla-t, nivel de confianza: se busca con el máximo valor\n",
    "# e: margen de error aceptable\n",
    "# ds: desviación standar estimada usando muestra piloto\n",
    "\n",
    "def Tmedia(t,e,ds):\n",
    "    n = t**2*ds**2/e**2\n",
    "    return f\"n = {round(n,4)}\""
   ]
  },
  {
   "cell_type": "code",
   "execution_count": 111,
   "metadata": {},
   "outputs": [
    {
     "data": {
      "text/plain": [
       "'n = 118.5679'"
      ]
     },
     "execution_count": 111,
     "metadata": {},
     "output_type": "execute_result"
    }
   ],
   "source": [
    "Tmedia(1.96,0.45,2.5)"
   ]
  },
  {
   "cell_type": "code",
   "execution_count": 107,
   "metadata": {},
   "outputs": [],
   "source": [
    "# Tamaño de la muestra con respecto a la proporción:\n",
    "\n",
    "# z: valor tabular, tabla-z\n",
    "# e: margen de error aceptable\n",
    "# p: proporción estimada usando muestra piloto\n",
    "\n",
    "def Tprop(z,e,p):\n",
    "    n = z**2*p*(1-p)/e**2\n",
    "    return f\"n = {round(n,4)}\""
   ]
  },
  {
   "cell_type": "code",
   "execution_count": 114,
   "metadata": {},
   "outputs": [
    {
     "data": {
      "text/plain": [
       "'n = 582.1474'"
      ]
     },
     "execution_count": 114,
     "metadata": {},
     "output_type": "execute_result"
    }
   ],
   "source": [
    "Tprop(2.58,0.045,0.23)"
   ]
  }
 ],
 "metadata": {
  "kernelspec": {
   "display_name": "Python 3.10.4 64-bit",
   "language": "python",
   "name": "python3"
  },
  "language_info": {
   "codemirror_mode": {
    "name": "ipython",
    "version": 3
   },
   "file_extension": ".py",
   "mimetype": "text/x-python",
   "name": "python",
   "nbconvert_exporter": "python",
   "pygments_lexer": "ipython3",
   "version": "3.10.4"
  },
  "orig_nbformat": 4,
  "vscode": {
   "interpreter": {
    "hash": "2469a70536e4d2335a2ea8907942d0699c37342a371ac185bdb5b0aa6f073890"
   }
  }
 },
 "nbformat": 4,
 "nbformat_minor": 2
}
